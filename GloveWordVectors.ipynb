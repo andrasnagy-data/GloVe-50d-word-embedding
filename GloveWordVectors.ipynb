{
 "cells": [
  {
   "cell_type": "markdown",
   "metadata": {
    "id": "9WVT9fuRH9x3"
   },
   "source": [
    "# Glove Word Vectors - Word similarity (semantic)"
   ]
  },
  {
   "cell_type": "code",
   "execution_count": 1,
   "metadata": {
    "executionInfo": {
     "elapsed": 1342,
     "status": "ok",
     "timestamp": 1611050611206,
     "user": {
      "displayName": "András Nagy",
      "photoUrl": "",
      "userId": "06507394975252989045"
     },
     "user_tz": -60
    },
    "id": "oLT_sdTQ0POI"
   },
   "outputs": [],
   "source": [
    "import pandas as pd\n",
    "import csv\n",
    "\n",
    "from sklearn.metrics.pairwise import cosine_similarity\n",
    "from sklearn.neighbors import NearestNeighbors\n",
    "\n",
    "import numpy as np"
   ]
  },
  {
   "cell_type": "markdown",
   "metadata": {
    "id": "rUdLDX9_D1hj"
   },
   "source": [
    "## Import data & create data frame"
   ]
  },
  {
   "cell_type": "code",
   "execution_count": 2,
   "metadata": {
    "executionInfo": {
     "elapsed": 7370,
     "status": "ok",
     "timestamp": 1611050617240,
     "user": {
      "displayName": "András Nagy",
      "photoUrl": "",
      "userId": "06507394975252989045"
     },
     "user_tz": -60
    },
    "id": "7BwsoZJXzy0z"
   },
   "outputs": [],
   "source": [
    "path = 'glove.6B.50d.txt'\n",
    "\n",
    "words = pd.read_table(path, sep=\" \", index_col= 0, header= None, quoting=csv.QUOTE_NONE)"
   ]
  },
  {
   "cell_type": "markdown",
   "metadata": {
    "id": "LonaptTlD_qF"
   },
   "source": [
    "Random sample from \"words\" dataframe."
   ]
  },
  {
   "cell_type": "code",
   "execution_count": 3,
   "metadata": {
    "colab": {
     "base_uri": "https://localhost:8080/",
     "height": 193
    },
    "executionInfo": {
     "elapsed": 7370,
     "status": "ok",
     "timestamp": 1611050617248,
     "user": {
      "displayName": "András Nagy",
      "photoUrl": "",
      "userId": "06507394975252989045"
     },
     "user_tz": -60
    },
    "id": "8NAXEawx3L7Q",
    "outputId": "a71ded55-c236-4257-f33a-49ac2a21896e"
   },
   "outputs": [
    {
     "data": {
      "text/html": [
       "<div>\n",
       "<style scoped>\n",
       "    .dataframe tbody tr th:only-of-type {\n",
       "        vertical-align: middle;\n",
       "    }\n",
       "\n",
       "    .dataframe tbody tr th {\n",
       "        vertical-align: top;\n",
       "    }\n",
       "\n",
       "    .dataframe thead th {\n",
       "        text-align: right;\n",
       "    }\n",
       "</style>\n",
       "<table border=\"1\" class=\"dataframe\">\n",
       "  <thead>\n",
       "    <tr style=\"text-align: right;\">\n",
       "      <th></th>\n",
       "      <th>1</th>\n",
       "      <th>2</th>\n",
       "      <th>3</th>\n",
       "      <th>4</th>\n",
       "      <th>5</th>\n",
       "      <th>6</th>\n",
       "      <th>7</th>\n",
       "      <th>8</th>\n",
       "      <th>9</th>\n",
       "      <th>10</th>\n",
       "      <th>...</th>\n",
       "      <th>41</th>\n",
       "      <th>42</th>\n",
       "      <th>43</th>\n",
       "      <th>44</th>\n",
       "      <th>45</th>\n",
       "      <th>46</th>\n",
       "      <th>47</th>\n",
       "      <th>48</th>\n",
       "      <th>49</th>\n",
       "      <th>50</th>\n",
       "    </tr>\n",
       "    <tr>\n",
       "      <th>0</th>\n",
       "      <th></th>\n",
       "      <th></th>\n",
       "      <th></th>\n",
       "      <th></th>\n",
       "      <th></th>\n",
       "      <th></th>\n",
       "      <th></th>\n",
       "      <th></th>\n",
       "      <th></th>\n",
       "      <th></th>\n",
       "      <th></th>\n",
       "      <th></th>\n",
       "      <th></th>\n",
       "      <th></th>\n",
       "      <th></th>\n",
       "      <th></th>\n",
       "      <th></th>\n",
       "      <th></th>\n",
       "      <th></th>\n",
       "      <th></th>\n",
       "      <th></th>\n",
       "    </tr>\n",
       "  </thead>\n",
       "  <tbody>\n",
       "    <tr>\n",
       "      <th>supercharger</th>\n",
       "      <td>0.26481</td>\n",
       "      <td>-0.59335</td>\n",
       "      <td>0.561780</td>\n",
       "      <td>-0.721240</td>\n",
       "      <td>-0.72991</td>\n",
       "      <td>0.66387</td>\n",
       "      <td>0.65279</td>\n",
       "      <td>-0.68577</td>\n",
       "      <td>0.28926</td>\n",
       "      <td>0.24604</td>\n",
       "      <td>...</td>\n",
       "      <td>1.075900</td>\n",
       "      <td>0.015435</td>\n",
       "      <td>-1.788000</td>\n",
       "      <td>0.03281</td>\n",
       "      <td>0.26302</td>\n",
       "      <td>0.007122</td>\n",
       "      <td>1.05210</td>\n",
       "      <td>0.46217</td>\n",
       "      <td>-0.37131</td>\n",
       "      <td>0.72106</td>\n",
       "    </tr>\n",
       "    <tr>\n",
       "      <th>mahabad</th>\n",
       "      <td>-1.49980</td>\n",
       "      <td>-0.81779</td>\n",
       "      <td>-0.061154</td>\n",
       "      <td>0.441630</td>\n",
       "      <td>-0.12481</td>\n",
       "      <td>-0.15817</td>\n",
       "      <td>1.11150</td>\n",
       "      <td>1.24640</td>\n",
       "      <td>0.70766</td>\n",
       "      <td>-0.49984</td>\n",
       "      <td>...</td>\n",
       "      <td>-0.057966</td>\n",
       "      <td>0.555130</td>\n",
       "      <td>-0.082088</td>\n",
       "      <td>-1.45500</td>\n",
       "      <td>-0.77707</td>\n",
       "      <td>1.073900</td>\n",
       "      <td>-0.29587</td>\n",
       "      <td>-0.72214</td>\n",
       "      <td>-0.51878</td>\n",
       "      <td>0.32553</td>\n",
       "    </tr>\n",
       "    <tr>\n",
       "      <th>verapamil</th>\n",
       "      <td>-0.20199</td>\n",
       "      <td>-0.67403</td>\n",
       "      <td>0.208100</td>\n",
       "      <td>-0.035614</td>\n",
       "      <td>-1.21990</td>\n",
       "      <td>0.44553</td>\n",
       "      <td>0.82464</td>\n",
       "      <td>-0.15740</td>\n",
       "      <td>1.09710</td>\n",
       "      <td>1.30940</td>\n",
       "      <td>...</td>\n",
       "      <td>0.588470</td>\n",
       "      <td>1.081100</td>\n",
       "      <td>-0.136230</td>\n",
       "      <td>0.51677</td>\n",
       "      <td>0.24699</td>\n",
       "      <td>-0.178160</td>\n",
       "      <td>-0.34939</td>\n",
       "      <td>-0.21223</td>\n",
       "      <td>-0.26362</td>\n",
       "      <td>0.78475</td>\n",
       "    </tr>\n",
       "  </tbody>\n",
       "</table>\n",
       "<p>3 rows × 50 columns</p>\n",
       "</div>"
      ],
      "text/plain": [
       "                   1        2         3         4        5        6        7   \\\n",
       "0                                                                               \n",
       "supercharger  0.26481 -0.59335  0.561780 -0.721240 -0.72991  0.66387  0.65279   \n",
       "mahabad      -1.49980 -0.81779 -0.061154  0.441630 -0.12481 -0.15817  1.11150   \n",
       "verapamil    -0.20199 -0.67403  0.208100 -0.035614 -1.21990  0.44553  0.82464   \n",
       "\n",
       "                   8        9        10  ...        41        42        43  \\\n",
       "0                                        ...                                 \n",
       "supercharger -0.68577  0.28926  0.24604  ...  1.075900  0.015435 -1.788000   \n",
       "mahabad       1.24640  0.70766 -0.49984  ... -0.057966  0.555130 -0.082088   \n",
       "verapamil    -0.15740  1.09710  1.30940  ...  0.588470  1.081100 -0.136230   \n",
       "\n",
       "                   44       45        46       47       48       49       50  \n",
       "0                                                                             \n",
       "supercharger  0.03281  0.26302  0.007122  1.05210  0.46217 -0.37131  0.72106  \n",
       "mahabad      -1.45500 -0.77707  1.073900 -0.29587 -0.72214 -0.51878  0.32553  \n",
       "verapamil     0.51677  0.24699 -0.178160 -0.34939 -0.21223 -0.26362  0.78475  \n",
       "\n",
       "[3 rows x 50 columns]"
      ]
     },
     "execution_count": 3,
     "metadata": {},
     "output_type": "execute_result"
    }
   ],
   "source": [
    "words.sample(3)"
   ]
  },
  {
   "cell_type": "markdown",
   "metadata": {
    "id": "4Ljc8vbNEFyF"
   },
   "source": [
    "## Create vocabulary & word2idx"
   ]
  },
  {
   "cell_type": "markdown",
   "metadata": {
    "id": "olvSqkXmFdOf"
   },
   "source": [
    "Create a word-number reference."
   ]
  },
  {
   "cell_type": "code",
   "execution_count": 4,
   "metadata": {
    "executionInfo": {
     "elapsed": 7364,
     "status": "ok",
     "timestamp": 1611050617249,
     "user": {
      "displayName": "András Nagy",
      "photoUrl": "",
      "userId": "06507394975252989045"
     },
     "user_tz": -60
    },
    "id": "Af17HmPOEOaR"
   },
   "outputs": [],
   "source": [
    "vocab = words.index\n",
    "\n",
    "word2idx = dict(zip(vocab, np.arange(len(vocab))))"
   ]
  },
  {
   "cell_type": "code",
   "execution_count": 5,
   "metadata": {
    "colab": {
     "base_uri": "https://localhost:8080/",
     "height": 35
    },
    "executionInfo": {
     "elapsed": 7358,
     "status": "ok",
     "timestamp": 1611050617249,
     "user": {
      "displayName": "András Nagy",
      "photoUrl": "",
      "userId": "06507394975252989045"
     },
     "user_tz": -60
    },
    "id": "xYreBb9sFQ6p",
    "outputId": "0c7457a5-063f-4e3c-809b-c5229e631d26"
   },
   "outputs": [
    {
     "data": {
      "text/plain": [
       "'he'"
      ]
     },
     "execution_count": 5,
     "metadata": {},
     "output_type": "execute_result"
    }
   ],
   "source": [
    "vocab[18]"
   ]
  },
  {
   "cell_type": "code",
   "execution_count": 6,
   "metadata": {
    "colab": {
     "base_uri": "https://localhost:8080/"
    },
    "executionInfo": {
     "elapsed": 7354,
     "status": "ok",
     "timestamp": 1611050617250,
     "user": {
      "displayName": "András Nagy",
      "photoUrl": "",
      "userId": "06507394975252989045"
     },
     "user_tz": -60
    },
    "id": "2OLSY-pIFXZY",
    "outputId": "58525b0d-b22c-4e1f-c7ea-5df208bc7d15"
   },
   "outputs": [
    {
     "data": {
      "text/plain": [
       "18"
      ]
     },
     "execution_count": 6,
     "metadata": {},
     "output_type": "execute_result"
    }
   ],
   "source": [
    "word2idx['he']"
   ]
  },
  {
   "cell_type": "markdown",
   "metadata": {
    "id": "wwCJ8HzM6960"
   },
   "source": [
    "## Semantic similarity between word vectors (measured by the cosine of the angle between two vectors)"
   ]
  },
  {
   "cell_type": "markdown",
   "metadata": {
    "id": "YYPTNX3n8elU"
   },
   "source": [
    "Words that have semantic similarity has a value close to 1. Words that do not have a semantic similarity has a value close to 0."
   ]
  },
  {
   "cell_type": "markdown",
   "metadata": {
    "id": "xcuzb1bU7fEd"
   },
   "source": [
    "Select words to compare."
   ]
  },
  {
   "cell_type": "code",
   "execution_count": 7,
   "metadata": {
    "executionInfo": {
     "elapsed": 7826,
     "status": "ok",
     "timestamp": 1611050617728,
     "user": {
      "displayName": "András Nagy",
      "photoUrl": "",
      "userId": "06507394975252989045"
     },
     "user_tz": -60
    },
    "id": "iUkAmnG37NLd"
   },
   "outputs": [],
   "source": [
    "cat = np.array(words.loc['cat']).reshape(1, -1)\n",
    "dog = np.array(words.loc['dog']).reshape(1, -1)\n",
    "car = np.array(words.loc['car']).reshape(1, -1)"
   ]
  },
  {
   "cell_type": "markdown",
   "metadata": {
    "id": "sBCStX3m81DA"
   },
   "source": [
    "The words \"cat\" and \"dog\" have similar semantic in the vector space."
   ]
  },
  {
   "cell_type": "code",
   "execution_count": 8,
   "metadata": {
    "colab": {
     "base_uri": "https://localhost:8080/"
    },
    "executionInfo": {
     "elapsed": 7822,
     "status": "ok",
     "timestamp": 1611050617729,
     "user": {
      "displayName": "András Nagy",
      "photoUrl": "",
      "userId": "06507394975252989045"
     },
     "user_tz": -60
    },
    "id": "JxygKOYw5htK",
    "outputId": "c26de471-82bb-4a5d-b161-103e5aebed8a"
   },
   "outputs": [
    {
     "data": {
      "text/plain": [
       "array([[0.92180053]])"
      ]
     },
     "execution_count": 8,
     "metadata": {},
     "output_type": "execute_result"
    }
   ],
   "source": [
    "cosine_similarity(cat, dog)"
   ]
  },
  {
   "cell_type": "markdown",
   "metadata": {
    "id": "p6DdvRNo9y0G"
   },
   "source": [
    "The words \"cat\" and \"car\" are similar lexicographically, however there is no semantic relationship between them."
   ]
  },
  {
   "cell_type": "code",
   "execution_count": 9,
   "metadata": {
    "colab": {
     "base_uri": "https://localhost:8080/"
    },
    "executionInfo": {
     "elapsed": 7818,
     "status": "ok",
     "timestamp": 1611050617730,
     "user": {
      "displayName": "András Nagy",
      "photoUrl": "",
      "userId": "06507394975252989045"
     },
     "user_tz": -60
    },
    "id": "Pq8xCQsA9x-F",
    "outputId": "2c5659f3-f9f9-424b-88a8-451243c5b4f0"
   },
   "outputs": [
    {
     "data": {
      "text/plain": [
       "array([[0.36382526]])"
      ]
     },
     "execution_count": 9,
     "metadata": {},
     "output_type": "execute_result"
    }
   ],
   "source": [
    "cosine_similarity(cat, car)"
   ]
  },
  {
   "cell_type": "markdown",
   "metadata": {
    "id": "DWusTyJkJE4i"
   },
   "source": [
    "The vector for car is definitely farther away from the vector representing cat, than the vector for dog. "
   ]
  },
  {
   "cell_type": "markdown",
   "metadata": {
    "id": "WImCaIU1-eZS"
   },
   "source": [
    "## Get similar words (words that are the closest to the selected word vector is said to be similar)"
   ]
  },
  {
   "cell_type": "markdown",
   "metadata": {},
   "source": [
    "In this case, the notion of closeness is defined by the Euclidean distance between the points in space"
   ]
  },
  {
   "cell_type": "code",
   "execution_count": 10,
   "metadata": {
    "colab": {
     "base_uri": "https://localhost:8080/"
    },
    "executionInfo": {
     "elapsed": 13406,
     "status": "ok",
     "timestamp": 1611050623324,
     "user": {
      "displayName": "András Nagy",
      "photoUrl": "",
      "userId": "06507394975252989045"
     },
     "user_tz": -60
    },
    "id": "t8sFScln-z1w",
    "outputId": "5a762990-9fcc-4812-bb2b-41e264374878"
   },
   "outputs": [
    {
     "data": {
      "text/plain": [
       "NearestNeighbors(n_neighbors=10)"
      ]
     },
     "execution_count": 10,
     "metadata": {},
     "output_type": "execute_result"
    }
   ],
   "source": [
    "nneigh = NearestNeighbors(n_neighbors= 10)\n",
    "nneigh.fit(words)"
   ]
  },
  {
   "cell_type": "markdown",
   "metadata": {
    "id": "d0aD7N9_-rm7"
   },
   "source": [
    "Get the 10 most similar word to selected word."
   ]
  },
  {
   "cell_type": "code",
   "execution_count": 11,
   "metadata": {
    "executionInfo": {
     "elapsed": 13401,
     "status": "ok",
     "timestamp": 1611050623324,
     "user": {
      "displayName": "András Nagy",
      "photoUrl": "",
      "userId": "06507394975252989045"
     },
     "user_tz": -60
    },
    "id": "aitOneAwDTzF"
   },
   "outputs": [],
   "source": [
    "exciting = words.loc['exciting']"
   ]
  },
  {
   "cell_type": "code",
   "execution_count": 12,
   "metadata": {
    "colab": {
     "base_uri": "https://localhost:8080/"
    },
    "executionInfo": {
     "elapsed": 13397,
     "status": "ok",
     "timestamp": 1611050623325,
     "user": {
      "displayName": "András Nagy",
      "photoUrl": "",
      "userId": "06507394975252989045"
     },
     "user_tz": -60
    },
    "id": "FFJ3Zd7X_9k1",
    "outputId": "a8e2be48-39df-4678-f0b2-4b6cc88d5a4d"
   },
   "outputs": [
    {
     "data": {
      "text/plain": [
       "[('exciting', 0.0),\n",
       " ('terrific', 2.792611993603401),\n",
       " ('interesting', 2.8611622732844078),\n",
       " ('fantastic', 2.861798400678322),\n",
       " ('amazing', 3.007153936813019),\n",
       " ('enjoyable', 3.008023059154467),\n",
       " ('frustrating', 3.0421646103779865),\n",
       " ('entertaining', 3.049089698192792),\n",
       " ('incredibly', 3.1307719297730716),\n",
       " ('wonderful', 3.232475676976922)]"
      ]
     },
     "execution_count": 12,
     "metadata": {},
     "output_type": "execute_result"
    }
   ],
   "source": [
    "distances, indices = nneigh.kneighbors([exciting])\n",
    "\n",
    "[(vocab[int(ind)], dist) for ind, dist in zip(list(indices[0]), list(distances[0]))]"
   ]
  },
  {
   "cell_type": "markdown",
   "metadata": {},
   "source": [
    "Check for another word"
   ]
  },
  {
   "cell_type": "code",
   "execution_count": 13,
   "metadata": {
    "executionInfo": {
     "elapsed": 13401,
     "status": "ok",
     "timestamp": 1611050623324,
     "user": {
      "displayName": "András Nagy",
      "photoUrl": "",
      "userId": "06507394975252989045"
     },
     "user_tz": -60
    },
    "id": "aitOneAwDTzF"
   },
   "outputs": [],
   "source": [
    "politics = words.loc['politics']"
   ]
  },
  {
   "cell_type": "code",
   "execution_count": 14,
   "metadata": {
    "colab": {
     "base_uri": "https://localhost:8080/"
    },
    "executionInfo": {
     "elapsed": 13397,
     "status": "ok",
     "timestamp": 1611050623325,
     "user": {
      "displayName": "András Nagy",
      "photoUrl": "",
      "userId": "06507394975252989045"
     },
     "user_tz": -60
    },
    "id": "FFJ3Zd7X_9k1",
    "outputId": "a8e2be48-39df-4678-f0b2-4b6cc88d5a4d"
   },
   "outputs": [
    {
     "data": {
      "text/plain": [
       "[('politics', 0.0),\n",
       " ('political', 2.518940798601468),\n",
       " ('debate', 3.540192338124724),\n",
       " ('struggle', 3.7507524907807785),\n",
       " ('rooted', 3.754068066487207),\n",
       " ('circles', 3.7649280054914733),\n",
       " ('liberal', 3.7939710137099043),\n",
       " ('minded', 3.8021530920671776),\n",
       " ('politicians', 3.80693941162609),\n",
       " ('turning', 3.816618306548744)]"
      ]
     },
     "execution_count": 14,
     "metadata": {},
     "output_type": "execute_result"
    }
   ],
   "source": [
    "distances, indices = nneigh.kneighbors([politics])\n",
    "\n",
    "[(vocab[int(ind)], dist) for ind, dist in zip(list(indices[0]), list(distances[0]))]"
   ]
  }
 ],
 "metadata": {
  "colab": {
   "authorship_tag": "ABX9TyMtLVTC/mWrFi35IhU4rY+r",
   "collapsed_sections": [
    "rUdLDX9_D1hj"
   ],
   "name": "GloveWordVectors.ipynb",
   "provenance": []
  },
  "kernelspec": {
   "display_name": "Python 3",
   "language": "python",
   "name": "python3"
  },
  "language_info": {
   "codemirror_mode": {
    "name": "ipython",
    "version": 3
   },
   "file_extension": ".py",
   "mimetype": "text/x-python",
   "name": "python",
   "nbconvert_exporter": "python",
   "pygments_lexer": "ipython3",
   "version": "3.8.5"
  }
 },
 "nbformat": 4,
 "nbformat_minor": 1
}
